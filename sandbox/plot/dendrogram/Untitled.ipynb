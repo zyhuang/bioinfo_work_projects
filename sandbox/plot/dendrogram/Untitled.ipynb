{
 "cells": [
  {
   "cell_type": "code",
   "execution_count": null,
   "metadata": {
    "collapsed": true
   },
   "outputs": [],
   "source": [
    "# https://www.researchgate.net/post/How_to_generate_the_phylogenetic_tree_if_I_have_distance_matrix_rather_than_alignment"
   ]
  },
  {
   "cell_type": "code",
   "execution_count": 16,
   "metadata": {
    "collapsed": true
   },
   "outputs": [],
   "source": [
    "from matplotlib import pyplot as plt\n",
    "from scipy.cluster.hierarchy import dendrogram, linkage\n",
    "import numpy as np"
   ]
  },
  {
   "cell_type": "code",
   "execution_count": 2,
   "metadata": {
    "collapsed": true
   },
   "outputs": [],
   "source": [
    "%matplotlib inline\n",
    "np.set_printoptions(precision=5, suppress=True)  # suppress scientific float notation"
   ]
  },
  {
   "cell_type": "code",
   "execution_count": 4,
   "metadata": {
    "collapsed": false
   },
   "outputs": [
    {
     "name": "stdout",
     "output_type": "stream",
     "text": [
      "(150, 2)\n"
     ]
    },
    {
     "data": {
      "image/png": "[encoded data removed]",
      "text/plain": [
       "<matplotlib.figure.Figure at 0x7f0c54498a90>"
      ]
     },
     "metadata": {},
     "output_type": "display_data"
    }
   ],
   "source": [
    "# generate two clusters: a with 100 points, b with 50:\n",
    "np.random.seed(4711)  # for repeatability of this tutorial\n",
    "a = np.random.multivariate_normal([10, 0], [[3, 1], [1, 4]], size=[100,])\n",
    "b = np.random.multivariate_normal([0, 20], [[3, 1], [1, 4]], size=[50,])\n",
    "X = np.concatenate((a, b),)\n",
    "print(X.shape)  # 150 samples with 2 dimensions\n",
    "plt.scatter(X[:,0], X[:,1])\n",
    "plt.show()"
   ]
  },
  {
   "cell_type": "code",
   "execution_count": 10,
   "metadata": {
    "collapsed": false
   },
   "outputs": [
    {
     "data": {
      "text/plain": [
       "array([[  9.21188,  -0.15189],\n",
       "       [  8.88937,  -0.33937],\n",
       "       [ 10.7684 ,   2.95245],\n",
       "       [  8.24213,   1.29095],\n",
       "       [  5.7967 ,  -5.83777],\n",
       "       [  6.34993,   0.6396 ],\n",
       "       [  8.10571,  -0.45887],\n",
       "       [  8.72085,  -4.40444],\n",
       "       [  8.83501,  -0.39166],\n",
       "       [ 10.40061,   2.71241],\n",
       "       [ 11.95503,   1.98603],\n",
       "       [  8.50142,   0.5035 ],\n",
       "       [  9.23359,   1.30693],\n",
       "       [ 12.27768,   1.62764],\n",
       "       [ 10.95902,  -0.12752],\n",
       "       [  8.72437,  -0.73102],\n",
       "       [  9.64949,   3.41989],\n",
       "       [ 11.49912,  -0.55113],\n",
       "       [ 11.48256,  -0.28623],\n",
       "       [  8.5874 ,   1.66814],\n",
       "       [ 11.9557 ,  -1.27351],\n",
       "       [  9.85622,   1.08989],\n",
       "       [ 10.11831,   1.08458],\n",
       "       [  7.76042,   0.63747],\n",
       "       [ 10.99794,  -2.93747],\n",
       "       [  6.9085 ,  -1.44868],\n",
       "       [  7.85787,  -0.99148],\n",
       "       [  6.12508,  -2.44306],\n",
       "       [ 10.61144,  -0.23623],\n",
       "       [ 11.09217,  -1.69984],\n",
       "       [  7.15907,  -0.12267],\n",
       "       [ 10.73784,  -1.63561],\n",
       "       [  8.23932,   1.55744],\n",
       "       [  9.83913,  -0.4873 ],\n",
       "       [ 11.26222,  -0.17158],\n",
       "       [ 10.67802,  -0.46974],\n",
       "       [ 13.90816,   2.36856],\n",
       "       [ 11.21979,   3.35442],\n",
       "       [  9.08491,  -3.38582],\n",
       "       [  7.77229,  -1.2382 ],\n",
       "       [ 16.36333,   5.24745],\n",
       "       [  8.81583,  -0.56394],\n",
       "       [  8.13179,   1.87917],\n",
       "       [ 10.13499,  -1.18689],\n",
       "       [  8.59431,   0.7797 ],\n",
       "       [  8.98565,  -2.72057],\n",
       "       [  9.86312,   1.75254],\n",
       "       [ 12.25994,   1.22973],\n",
       "       [ 12.19145,  -0.05196],\n",
       "       [ 12.3745 ,  -2.34243],\n",
       "       [  9.98418,   1.56825],\n",
       "       [  8.68402,  -2.09666],\n",
       "       [ 10.18803,   0.91404],\n",
       "       [ 10.21254,   0.88053],\n",
       "       [  8.402  ,  -1.40096],\n",
       "       [ 10.48088,  -1.1919 ],\n",
       "       [  9.35848,   0.70857],\n",
       "       [ 11.88164,   4.12229],\n",
       "       [ 10.19448,  -2.78018],\n",
       "       [ 12.23631,   0.93161],\n",
       "       [  6.86418,  -4.03013],\n",
       "       [ 10.32754,  -2.8246 ],\n",
       "       [  9.97793,  -0.56383],\n",
       "       [  9.6348 ,  -0.90549],\n",
       "       [  8.80166,  -2.42264],\n",
       "       [  8.53958,   2.58027],\n",
       "       [ 10.36697,   2.82031],\n",
       "       [  7.9081 ,  -1.8471 ],\n",
       "       [  9.89349,  -0.44152],\n",
       "       [  8.6953 ,  -0.62049],\n",
       "       [  9.30179,   0.10478],\n",
       "       [  9.85058,   1.35183],\n",
       "       [ 10.71074,   0.58267],\n",
       "       [ 11.54574,  -0.60518],\n",
       "       [  8.59349,   2.69294],\n",
       "       [ 12.34116,  -1.76219],\n",
       "       [ 13.14934,   2.85031],\n",
       "       [  9.4168 ,   2.70293],\n",
       "       [  8.91523,   1.06233],\n",
       "       [ 10.91086,  -0.16184],\n",
       "       [ 10.55486,  -1.49158],\n",
       "       [ 12.63236,   2.22172],\n",
       "       [ 10.06665,  -0.79825],\n",
       "       [ 12.13005,   2.05003],\n",
       "       [  7.76127,  -0.09679],\n",
       "       [ 12.49528,   0.7411 ],\n",
       "       [ 12.92503,   0.56741],\n",
       "       [  9.36541,  -1.40604],\n",
       "       [  7.79571,  -1.44315],\n",
       "       [ 10.82672,  -2.08811],\n",
       "       [ 11.95397,   1.08769],\n",
       "       [  6.59948,   0.86934],\n",
       "       [  9.45548,  -2.48749],\n",
       "       [ 11.00038,   2.6571 ],\n",
       "       [ 11.00014,   1.25281],\n",
       "       [ 12.59778,   0.70323],\n",
       "       [  9.24786,   0.31736],\n",
       "       [  8.73431,  -1.52812],\n",
       "       [  9.62903,  -0.78443],\n",
       "       [ 13.02959,   3.1222 ],\n",
       "       [  0.79934,  19.28762],\n",
       "       [ -0.84336,  19.14768],\n",
       "       [  2.68289,  20.28232],\n",
       "       [ -1.92578,  16.28116],\n",
       "       [  0.06693,  23.13071],\n",
       "       [  1.42543,  20.57584],\n",
       "       [  0.89064,  20.85059],\n",
       "       [  0.46998,  19.45692],\n",
       "       [  0.64147,  21.89409],\n",
       "       [  0.83048,  17.3592 ],\n",
       "       [ -0.18723,  18.88187],\n",
       "       [ -2.84504,  18.30168],\n",
       "       [ -0.07865,  21.50771],\n",
       "       [  0.62828,  17.45787],\n",
       "       [  2.02318,  22.44787],\n",
       "       [  0.50775,  19.34125],\n",
       "       [ -1.55474,  19.69585],\n",
       "       [ -2.54958,  20.01232],\n",
       "       [  0.2621 ,  22.16455],\n",
       "       [  1.43291,  17.48622],\n",
       "       [  0.47085,  24.08457],\n",
       "       [  1.47295,  21.63667],\n",
       "       [ -2.01973,  17.0863 ],\n",
       "       [  0.30695,  18.56967],\n",
       "       [ -0.17538,  19.50071],\n",
       "       [ -1.04773,  14.76553],\n",
       "       [ -3.1254 ,  18.89846],\n",
       "       [ -2.0059 ,  22.5818 ],\n",
       "       [  2.82514,  22.7972 ],\n",
       "       [  2.93005,  17.32672],\n",
       "       [  1.37737,  20.96611],\n",
       "       [  0.60224,  21.99693],\n",
       "       [ -0.37393,  20.77203],\n",
       "       [  0.0071 ,  22.47931],\n",
       "       [ -0.76543,  19.61954],\n",
       "       [  0.37375,  20.18765],\n",
       "       [ -1.55002,  20.28733],\n",
       "       [  1.68351,  20.5509 ],\n",
       "       [ -0.81116,  18.10299],\n",
       "       [  1.82078,  22.4209 ],\n",
       "       [ -0.97993,  16.10622],\n",
       "       [  3.83842,  18.73497],\n",
       "       [  0.35858,  21.10633],\n",
       "       [  0.16514,  19.55743],\n",
       "       [  0.87923,  21.66081],\n",
       "       [  0.13719,  18.78208],\n",
       "       [  0.88147,  18.27187],\n",
       "       [  2.71952,  20.75219],\n",
       "       [  2.02869,  20.20869],\n",
       "       [  1.82184,  21.0003 ]])"
      ]
     },
     "execution_count": 10,
     "metadata": {},
     "output_type": "execute_result"
    }
   ],
   "source": [
    "X"
   ]
  },
  {
   "cell_type": "code",
   "execution_count": 5,
   "metadata": {
    "collapsed": true
   },
   "outputs": [],
   "source": [
    "# generate the linkage matrix\n",
    "Z = linkage(X, 'ward')"
   ]
  },
  {
   "cell_type": "code",
   "execution_count": 6,
   "metadata": {
    "collapsed": false
   },
   "outputs": [
    {
     "name": "stdout",
     "output_type": "stream",
     "text": [
      "(149, 4)\n"
     ]
    }
   ],
   "source": [
    "print(Z.shape)"
   ]
  },
  {
   "cell_type": "code",
   "execution_count": 7,
   "metadata": {
    "collapsed": false
   },
   "outputs": [
    {
     "data": {
      "text/plain": [
       "array([[  52.     ,   53.     ,    0.04151,    2.     ],\n",
       "       [  14.     ,   79.     ,    0.05914,    2.     ],\n",
       "       [  33.     ,   68.     ,    0.07107,    2.     ],\n",
       "       [  17.     ,   73.     ,    0.07137,    2.     ],\n",
       "       [   1.     ,    8.     ,    0.07543,    2.     ],\n",
       "       [  85.     ,   95.     ,    0.10928,    2.     ],\n",
       "       [ 108.     ,  131.     ,    0.11007,    2.     ],\n",
       "       [   9.     ,   66.     ,    0.11302,    2.     ],\n",
       "       [  15.     ,   69.     ,    0.11429,    2.     ],\n",
       "       [  63.     ,   98.     ,    0.1212 ,    2.     ],\n",
       "       [ 107.     ,  115.     ,    0.12167,    2.     ],\n",
       "       [  65.     ,   74.     ,    0.1249 ,    2.     ],\n",
       "       [  58.     ,   61.     ,    0.14028,    2.     ],\n",
       "       [  62.     ,  152.     ,    0.1726 ,    3.     ],\n",
       "       [  41.     ,  158.     ,    0.1779 ,    3.     ],\n",
       "       [  10.     ,   83.     ,    0.18635,    2.     ],\n",
       "       [ 114.     ,  139.     ,    0.20419,    2.     ],\n",
       "       [  39.     ,   88.     ,    0.20628,    2.     ],\n",
       "       [  70.     ,   96.     ,    0.21931,    2.     ],\n",
       "       [  46.     ,   50.     ,    0.22049,    2.     ],\n",
       "       [ 109.     ,  113.     ,    0.22499,    2.     ],\n",
       "       [  31.     ,   80.     ,    0.23286,    2.     ],\n",
       "       [  22.     ,  150.     ,    0.23608,    3.     ],\n",
       "       [  28.     ,   35.     ,    0.24282,    2.     ],\n",
       "       [  18.     ,   34.     ,    0.24839,    2.     ],\n",
       "       [ 105.     ,  137.     ,    0.25928,    2.     ],\n",
       "       [  21.     ,   71.     ,    0.262  ,    2.     ],\n",
       "       [   3.     ,   32.     ,    0.26651,    2.     ],\n",
       "       [ 123.     ,  145.     ,    0.27191,    2.     ],\n",
       "       [  11.     ,   44.     ,    0.2914 ,    2.     ],\n",
       "       [  76.     ,   99.     ,    0.29709,    2.     ],\n",
       "       [  47.     ,   59.     ,    0.29906,    2.     ],\n",
       "       [   5.     ,   91.     ,    0.3392 ,    2.     ],\n",
       "       [  90.     ,  181.     ,    0.33976,    3.     ],\n",
       "       [ 124.     ,  143.     ,    0.34521,    2.     ],\n",
       "       [  43.     ,   55.     ,    0.34593,    2.     ],\n",
       "       [  51.     ,   64.     ,    0.34655,    2.     ],\n",
       "       [  54.     ,   97.     ,    0.35581,    2.     ],\n",
       "       [   2.     ,   93.     ,    0.37556,    2.     ],\n",
       "       [ 100.     ,  160.     ,    0.38091,    3.     ],\n",
       "       [  12.     ,   78.     ,    0.40147,    2.     ],\n",
       "       [ 118.     ,  133.     ,    0.4051 ,    2.     ],\n",
       "       [  26.     ,  167.     ,    0.41213,    3.     ],\n",
       "       [  82.     ,  163.     ,    0.41898,    4.     ],\n",
       "       [   0.     ,  168.     ,    0.42536,    3.     ],\n",
       "       [ 144.     ,  156.     ,    0.44317,    3.     ],\n",
       "       [ 130.     ,  149.     ,    0.44579,    2.     ],\n",
       "       [ 154.     ,  164.     ,    0.4601 ,    5.     ],\n",
       "       [  29.     ,   89.     ,    0.47034,    2.     ],\n",
       "       [ 102.     ,  147.     ,    0.4713 ,    2.     ],\n",
       "       [  86.     ,  155.     ,    0.47217,    3.     ],\n",
       "       [ 101.     ,  134.     ,    0.47825,    2.     ],\n",
       "       [  19.     ,  177.     ,    0.48948,    3.     ],\n",
       "       [   6.     ,   84.     ,    0.49974,    2.     ],\n",
       "       [ 151.     ,  173.     ,    0.5052 ,    4.     ],\n",
       "       [  45.     ,   92.     ,    0.52446,    2.     ],\n",
       "       [  13.     ,  165.     ,    0.52623,    3.     ],\n",
       "       [ 110.     ,  178.     ,    0.5291 ,    3.     ],\n",
       "       [  42.     ,  202.     ,    0.53388,    4.     ],\n",
       "       [ 153.     ,  174.     ,    0.53756,    4.     ],\n",
       "       [  49.     ,   75.     ,    0.5812 ,    2.     ],\n",
       "       [ 106.     ,  142.     ,    0.59033,    2.     ],\n",
       "       [ 116.     ,  136.     ,    0.59151,    2.     ],\n",
       "       [ 175.     ,  196.     ,    0.59716,    4.     ],\n",
       "       [ 169.     ,  176.     ,    0.62949,    4.     ],\n",
       "       [  56.     ,  190.     ,    0.64014,    3.     ],\n",
       "       [ 171.     ,  198.     ,    0.64371,    4.     ],\n",
       "       [ 111.     ,  126.     ,    0.65935,    2.     ],\n",
       "       [ 159.     ,  193.     ,    0.67665,    6.     ],\n",
       "       [ 157.     ,  188.     ,    0.71004,    4.     ],\n",
       "       [  72.     ,   94.     ,    0.72996,    2.     ],\n",
       "       [  81.     ,  206.     ,    0.748  ,    4.     ],\n",
       "       [  16.     ,   77.     ,    0.75378,    2.     ],\n",
       "       [  67.     ,  192.     ,    0.77247,    4.     ],\n",
       "       [ 112.     ,  132.     ,    0.79273,    2.     ],\n",
       "       [ 103.     ,  122.     ,    0.8106 ,    2.     ],\n",
       "       [ 119.     ,  170.     ,    0.81731,    3.     ],\n",
       "       [ 186.     ,  205.     ,    0.83284,    4.     ],\n",
       "       [ 148.     ,  199.     ,    0.85439,    3.     ],\n",
       "       [  24.     ,  162.     ,    0.86511,    3.     ],\n",
       "       [ 135.     ,  184.     ,    0.87732,    3.     ],\n",
       "       [  23.     ,  179.     ,    0.90927,    3.     ],\n",
       "       [  30.     ,  203.     ,    0.912  ,    3.     ],\n",
       "       [  87.     ,  187.     ,    0.92306,    3.     ],\n",
       "       [ 104.     ,  191.     ,    0.93716,    3.     ],\n",
       "       [ 121.     ,  195.     ,    0.97324,    4.     ],\n",
       "       [  20.     ,  210.     ,    1.01209,    3.     ],\n",
       "       [  37.     ,   57.     ,    1.01374,    2.     ],\n",
       "       [ 146.     ,  226.     ,    1.0306 ,    4.     ],\n",
       "       [ 172.     ,  214.     ,    1.03456,    7.     ],\n",
       "       [  48.     ,  209.     ,    1.04092,    5.     ],\n",
       "       [ 189.     ,  230.     ,    1.05574,    6.     ],\n",
       "       [   7.     ,   38.     ,    1.08173,    2.     ],\n",
       "       [ 128.     ,  166.     ,    1.12389,    3.     ],\n",
       "       [ 117.     ,  212.     ,    1.15172,    3.     ],\n",
       "       [ 183.     ,  200.     ,    1.15312,    6.     ],\n",
       "       [  25.     ,  223.     ,    1.17325,    5.     ],\n",
       "       [  36.     ,  180.     ,    1.18423,    3.     ],\n",
       "       [ 185.     ,  216.     ,    1.19546,    6.     ],\n",
       "       [ 211.     ,  224.     ,    1.22482,    4.     ],\n",
       "       [ 140.     ,  225.     ,    1.32626,    3.     ],\n",
       "       [ 138.     ,  207.     ,    1.35046,    4.     ],\n",
       "       [ 161.     ,  222.     ,    1.49318,    4.     ],\n",
       "       [ 194.     ,  197.     ,    1.49619,    8.     ],\n",
       "       [ 220.     ,  239.     ,    1.59175,    9.     ],\n",
       "       [ 215.     ,  231.     ,    1.6701 ,    6.     ],\n",
       "       [ 129.     ,  141.     ,    1.6758 ,    2.     ],\n",
       "       [ 201.     ,  251.     ,    1.699  ,    6.     ],\n",
       "       [ 204.     ,  240.     ,    1.70929,    9.     ],\n",
       "       [  27.     ,   60.     ,    1.75073,    2.     ],\n",
       "       [ 213.     ,  228.     ,    1.79407,    7.     ],\n",
       "       [ 227.     ,  233.     ,    1.84758,    7.     ],\n",
       "       [ 120.     ,  234.     ,    1.88067,    4.     ],\n",
       "       [ 208.     ,  255.     ,    1.92114,   10.     ],\n",
       "       [ 235.     ,  249.     ,    2.03403,    8.     ],\n",
       "       [ 219.     ,  237.     ,    2.15902,    6.     ],\n",
       "       [ 125.     ,  250.     ,    2.23528,    4.     ],\n",
       "       [ 232.     ,  246.     ,    2.26166,    8.     ],\n",
       "       [ 221.     ,  245.     ,    2.42437,   10.     ],\n",
       "       [ 241.     ,  257.     ,    2.46289,   12.     ],\n",
       "       [ 218.     ,  253.     ,    2.48409,   14.     ],\n",
       "       [ 229.     ,  248.     ,    2.61009,    9.     ],\n",
       "       [ 217.     ,  244.     ,    2.75678,    5.     ],\n",
       "       [ 127.     ,  262.     ,    2.83419,    5.     ],\n",
       "       [   4.     ,  259.     ,    3.10981,    3.     ],\n",
       "       [ 242.     ,  261.     ,    3.32706,    9.     ],\n",
       "       [ 236.     ,  271.     ,    3.48016,   12.     ],\n",
       "       [ 182.     ,  267.     ,    3.72097,   10.     ],\n",
       "       [ 247.     ,  268.     ,    3.83145,   13.     ],\n",
       "       [ 243.     ,  260.     ,    4.003  ,   10.     ],\n",
       "       [ 238.     ,  256.     ,    4.03585,    6.     ],\n",
       "       [ 264.     ,  273.     ,    4.11676,   13.     ],\n",
       "       [ 252.     ,  265.     ,    4.17761,   10.     ],\n",
       "       [ 254.     ,  263.     ,    5.05391,   19.     ],\n",
       "       [ 258.     ,  276.     ,    5.31023,   21.     ],\n",
       "       [ 269.     ,  272.     ,    6.20388,   17.     ],\n",
       "       [ 270.     ,  283.     ,    6.44512,   33.     ],\n",
       "       [ 279.     ,  281.     ,    6.5936 ,   23.     ],\n",
       "       [ 274.     ,  275.     ,    6.65622,   12.     ],\n",
       "       [  40.     ,  278.     ,    7.11106,   14.     ],\n",
       "       [ 277.     ,  288.     ,    7.86879,   22.     ],\n",
       "       [ 266.     ,  280.     ,    8.04935,   10.     ],\n",
       "       [ 285.     ,  291.     ,    8.74822,   27.     ],\n",
       "       [ 282.     ,  289.     ,    9.84428,   24.     ],\n",
       "       [ 284.     ,  286.     ,   12.42735,   54.     ],\n",
       "       [ 290.     ,  294.     ,   15.11533,   76.     ],\n",
       "       [ 287.     ,  292.     ,   17.11527,   50.     ],\n",
       "       [ 293.     ,  295.     ,   23.12199,  100.     ],\n",
       "       [ 296.     ,  297.     ,  180.27043,  150.     ]])"
      ]
     },
     "execution_count": 7,
     "metadata": {},
     "output_type": "execute_result"
    }
   ],
   "source": [
    "Z"
   ]
  },
  {
   "cell_type": "code",
   "execution_count": 8,
   "metadata": {
    "collapsed": false
   },
   "outputs": [
    {
     "data": {
      "text/plain": [
       "0.98001483875742679"
      ]
     },
     "execution_count": 8,
     "metadata": {},
     "output_type": "execute_result"
    }
   ],
   "source": [
    "from scipy.cluster.hierarchy import cophenet\n",
    "from scipy.spatial.distance import pdist\n",
    "\n",
    "c, coph_dists = cophenet(Z, pdist(X))\n",
    "c"
   ]
  },
  {
   "cell_type": "code",
   "execution_count": 9,
   "metadata": {
    "collapsed": false
   },
   "outputs": [
    {
     "data": {
      "image/png": "[encoded data removed]",
      "text/plain": [
       "<matplotlib.figure.Figure at 0x7f0c1d1ed390>"
      ]
     },
     "metadata": {},
     "output_type": "display_data"
    }
   ],
   "source": [
    "# calculate full dendrogram\n",
    "plt.figure(figsize=(25, 10))\n",
    "plt.title('Hierarchical Clustering Dendrogram')\n",
    "plt.xlabel('sample index')\n",
    "plt.ylabel('distance')\n",
    "dendrogram(\n",
    "    Z,\n",
    "    leaf_rotation=90.,  # rotates the x axis labels\n",
    "    leaf_font_size=8.,  # font size for the x axis labels\n",
    ")\n",
    "plt.show()"
   ]
  },
  {
   "cell_type": "code",
   "execution_count": null,
   "metadata": {
    "collapsed": true
   },
   "outputs": [],
   "source": [
    "# https://stackoverflow.com/questions/29022451/dendrogram-through-scipy-given-a-similarity-matrix\n",
    "# https://stackoverflow.com/questions/41416498/dendrogram-or-other-plot-from-distance-matrix"
   ]
  },
  {
   "cell_type": "code",
   "execution_count": 11,
   "metadata": {
    "collapsed": true
   },
   "outputs": [],
   "source": [
    "SimMatrix = [[ 0.,0.09259259,  0.125     ,  0.        ,  0.08571429],\n",
    "   [ 0.09259259,  0.        ,  0.05555556,  0.        ,  0.05128205],\n",
    "   [ 0.125     ,  0.05555556,  0.        ,  0.03571429,  0.05882353],\n",
    "   [ 0.        ,  0.        ,  0.03571429,  0.        ,  0.        ],\n",
    "   [ 0.08571429,  0.05128205,  0.05882353,  0.        ,  0.        ]]"
   ]
  },
  {
   "cell_type": "code",
   "execution_count": 12,
   "metadata": {
    "collapsed": true
   },
   "outputs": [],
   "source": [
    "import scipy.spatial.distance as ssd\n",
    "distVec = ssd.squareform(SimMatrix)"
   ]
  },
  {
   "cell_type": "code",
   "execution_count": 13,
   "metadata": {
    "collapsed": false
   },
   "outputs": [
    {
     "data": {
      "text/plain": [
       "array([ 0.09259,  0.125  ,  0.     ,  0.08571,  0.05556,  0.     ,\n",
       "        0.05128,  0.03571,  0.05882,  0.     ])"
      ]
     },
     "execution_count": 13,
     "metadata": {},
     "output_type": "execute_result"
    }
   ],
   "source": [
    "distVec"
   ]
  },
  {
   "cell_type": "code",
   "execution_count": 17,
   "metadata": {
    "collapsed": false
   },
   "outputs": [],
   "source": [
    "mylinkage = linkage(1 - distVec)"
   ]
  },
  {
   "cell_type": "code",
   "execution_count": 18,
   "metadata": {
    "collapsed": false
   },
   "outputs": [
    {
     "data": {
      "image/png": "[encoded data removed]",
      "text/plain": [
       "<matplotlib.figure.Figure at 0x7f0c1d0ce550>"
      ]
     },
     "metadata": {},
     "output_type": "display_data"
    }
   ],
   "source": [
    "dendro  = dendrogram(mylinkage)"
   ]
  },
  {
   "cell_type": "code",
   "execution_count": 22,
   "metadata": {
    "collapsed": true
   },
   "outputs": [],
   "source": [
    "import sys\n",
    "import matplotlib\n",
    "import matplotlib.pyplot as plt\n",
    "import numpy as np\n",
    "\n",
    "\n",
    "def proc_data(data_file_name, data_label_name):\n",
    "\n",
    "    data_label = []\n",
    "    for line in open(data_label_name):\n",
    "        data_label.append(line.rstrip())\n",
    "\n",
    "    nitem = len(data_label)\n",
    "    data_matrix = np.zeros([nitem, nitem])\n",
    "    label_index = {x:i for i,x in enumerate(data_label)}\n",
    "\n",
    "    for line in open(data_file_name):\n",
    "        data = line.rstrip().split('\\t')\n",
    "        item1, item2, dist = data[0], data[1], float(data[-1])\n",
    "        if item1 not in label_index or item2 not in label_index:\n",
    "            continue\n",
    "        idx1 = label_index[item1]\n",
    "        idx2 = label_index[item2]\n",
    "        data_matrix[idx1][idx2] = 1 - dist\n",
    "        data_matrix[idx2][idx1] = 1 - dist\n",
    "\n",
    "    return data_matrix, data_label\n"
   ]
  },
  {
   "cell_type": "code",
   "execution_count": 67,
   "metadata": {
    "collapsed": true
   },
   "outputs": [],
   "source": [
    "data_matrix, data_label = proc_data(\"distance_1000g.list\", \"order_1000g.26.list\")"
   ]
  },
  {
   "cell_type": "code",
   "execution_count": 68,
   "metadata": {
    "collapsed": false
   },
   "outputs": [
    {
     "data": {
      "image/png": "[encoded data removed]",
      "text/plain": [
       "<matplotlib.figure.Figure at 0x7f0c1d0d3240>"
      ]
     },
     "metadata": {},
     "output_type": "display_data"
    }
   ],
   "source": [
    "# fig, ax = plt.subplots()\n",
    "plt.figure(figsize=(20,10))\n",
    "distVec = ssd.squareform(data_matrix)\n",
    "mylinkage = linkage(distVec, 'ward')\n",
    "dendrogram(mylinkage, labels=data_label)\n",
    "# plt.ylim(0,0.03) \n",
    "plt.ylim(0,1)\n",
    "# ax.set_xt1icks(np.arange(len(data_label)))\n",
    "# ax.set_xticklabels(data_label, minor=False)\n",
    "\n",
    "plt.show()"
   ]
  },
  {
   "cell_type": "code",
   "execution_count": 71,
   "metadata": {
    "collapsed": false
   },
   "outputs": [
    {
     "data": {
      "text/plain": [
       "0.0060095301639999654"
      ]
     },
     "execution_count": 71,
     "metadata": {},
     "output_type": "execute_result"
    }
   ],
   "source": [
    "min(distVec)"
   ]
  },
  {
   "cell_type": "code",
   "execution_count": 65,
   "metadata": {
    "collapsed": true
   },
   "outputs": [],
   "source": [
    "data_matrix, data_label = proc_data(\"distance_pacs.list\", \"order_pacs.30c.list\")"
   ]
  },
  {
   "cell_type": "code",
   "execution_count": 66,
   "metadata": {
    "collapsed": false
   },
   "outputs": [
    {
     "data": {
      "image/png": "[encoded data removed]",
      "text/plain": [
       "<matplotlib.figure.Figure at 0x7f0c1cdb1c18>"
      ]
     },
     "metadata": {},
     "output_type": "display_data"
    }
   ],
   "source": [
    "# fig, ax = plt.subplots()\n",
    "plt.figure(figsize=(20,10))\n",
    "distVec = ssd.squareform(data_matrix)\n",
    "mylinkage = linkage(distVec, 'ward')\n",
    "dendrogram(mylinkage, labels=data_label)\n",
    "plt.ylim(0,0.03) \n",
    "# plt.ylim(0,1)\n",
    "# ax.set_xt1icks(np.arange(len(data_label)))\n",
    "# ax.set_xticklabels(data_label, minor=False)\n",
    "\n",
    "plt.show()\n"
   ]
  },
  {
   "cell_type": "code",
   "execution_count": 26,
   "metadata": {
    "collapsed": false
   },
   "outputs": [
    {
     "data": {
      "text/plain": [
       "array([[ 0.     ,  0.01696,  0.02983,  0.03054,  0.02678,  0.02854,\n",
       "         0.02854,  0.15033,  0.15739,  0.15658,  0.15246,  0.16002,\n",
       "         0.14416,  0.14817,  0.1483 ,  0.14766,  0.14726,  0.19904,\n",
       "         0.1954 ,  0.19875,  0.19738,  0.19908,  0.19138,  0.15127,\n",
       "         0.12619,  0.10825],\n",
       "       [ 0.01696,  0.     ,  0.01879,  0.01743,  0.01287,  0.01465,\n",
       "         0.01995,  0.19202,  0.20061,  0.19965,  0.19415,  0.20323,\n",
       "         0.18241,  0.18611,  0.18526,  0.1844 ,  0.18464,  0.23474,\n",
       "         0.23136,  0.23506,  0.23387,  0.23562,  0.23344,  0.19367,\n",
       "         0.1661 ,  0.14478],\n",
       "       [ 0.02983,  0.01879,  0.     ,  0.01491,  0.01815,  0.0206 ,\n",
       "         0.02677,  0.23305,  0.24303,  0.24198,  0.23533,  0.24517,\n",
       "         0.2196 ,  0.22307,  0.22098,  0.21994,  0.22065,  0.26652,\n",
       "         0.26322,  0.26674,  0.26569,  0.26732,  0.26769,  0.23032,\n",
       "         0.20348,  0.18061],\n",
       "       [ 0.03054,  0.01743,  0.01491,  0.     ,  0.01568,  0.01807,\n",
       "         0.02573,  0.24224,  0.2519 ,  0.25104,  0.24445,  0.2538 ,\n",
       "         0.22763,  0.23115,  0.22884,  0.22779,  0.22837,  0.2734 ,\n",
       "         0.27011,  0.27364,  0.27262,  0.27425,  0.27462,  0.2382 ,\n",
       "         0.2116 ,  0.18862],\n",
       "       [ 0.02678,  0.01287,  0.01815,  0.01568,  0.     ,  0.00957,\n",
       "         0.02045,  0.24068,  0.25039,  0.24945,  0.24284,  0.25239,\n",
       "         0.22615,  0.22927,  0.22738,  0.22632,  0.22688,  0.27171,\n",
       "         0.26851,  0.27206,  0.271  ,  0.27267,  0.27314,  0.23661,\n",
       "         0.20987,  0.18694],\n",
       "       [ 0.02854,  0.01465,  0.0206 ,  0.01807,  0.00957,  0.     ,\n",
       "         0.02192,  0.24276,  0.25247,  0.25149,  0.24493,  0.2544 ,\n",
       "         0.22787,  0.23123,  0.22907,  0.22802,  0.22857,  0.27339,\n",
       "         0.27033,  0.27388,  0.27293,  0.27462,  0.27509,  0.23874,\n",
       "         0.21194,  0.18905],\n",
       "       [ 0.02854,  0.01995,  0.02677,  0.02573,  0.02045,  0.02192,\n",
       "         0.     ,  0.22008,  0.22957,  0.22864,  0.22194,  0.23175,\n",
       "         0.20624,  0.20951,  0.2078 ,  0.20688,  0.20738,  0.2539 ,\n",
       "         0.25068,  0.25419,  0.25314,  0.25484,  0.25575,  0.21807,\n",
       "         0.19144,  0.16964],\n",
       "       [ 0.15033,  0.19202,  0.23305,  0.24224,  0.24068,  0.24276,\n",
       "         0.22008,  0.     ,  0.00942,  0.00908,  0.00789,  0.01891,\n",
       "         0.04548,  0.05245,  0.05984,  0.06071,  0.06051,  0.14136,\n",
       "         0.13659,  0.13994,  0.13761,  0.1397 ,  0.11585,  0.0568 ,\n",
       "         0.02636,  0.01855],\n",
       "       [ 0.15739,  0.20061,  0.24303,  0.2519 ,  0.25039,  0.25247,\n",
       "         0.22957,  0.00942,  0.     ,  0.00692,  0.01118,  0.01482,\n",
       "         0.04496,  0.05194,  0.06011,  0.06087,  0.06025,  0.14136,\n",
       "         0.13649,  0.13969,  0.13725,  0.13937,  0.11363,  0.05665,\n",
       "         0.02829,  0.02196],\n",
       "       [ 0.15658,  0.19965,  0.24198,  0.25104,  0.24945,  0.25149,\n",
       "         0.22864,  0.00908,  0.00692,  0.     ,  0.01059,  0.014  ,\n",
       "         0.04438,  0.05127,  0.05943,  0.06015,  0.05967,  0.14115,\n",
       "         0.1363 ,  0.13953,  0.13708,  0.13921,  0.11313,  0.05613,\n",
       "         0.02771,  0.02137],\n",
       "       [ 0.15246,  0.19415,  0.23533,  0.24445,  0.24284,  0.24493,\n",
       "         0.22194,  0.00789,  0.01118,  0.01059,  0.     ,  0.02082,\n",
       "         0.04345,  0.0503 ,  0.05766,  0.05861,  0.05892,  0.14116,\n",
       "         0.13633,  0.13972,  0.13739,  0.13969,  0.1168 ,  0.05782,\n",
       "         0.02781,  0.01986],\n",
       "       [ 0.16002,  0.20323,  0.24517,  0.2538 ,  0.25239,  0.2544 ,\n",
       "         0.23175,  0.01891,  0.01482,  0.014  ,  0.02082,  0.     ,\n",
       "         0.04595,  0.05249,  0.05986,  0.06044,  0.05866,  0.13083,\n",
       "         0.12629,  0.12862,  0.12612,  0.1279 ,  0.10716,  0.05519,\n",
       "         0.03147,  0.02753],\n",
       "       [ 0.14416,  0.18241,  0.2196 ,  0.22763,  0.22615,  0.22787,\n",
       "         0.20624,  0.04548,  0.04496,  0.04438,  0.04345,  0.04595,\n",
       "         0.     ,  0.01114,  0.01084,  0.01132,  0.01203,  0.09305,\n",
       "         0.08839,  0.09219,  0.09077,  0.09233,  0.09519,  0.05416,\n",
       "         0.03997,  0.03934],\n",
       "       [ 0.14817,  0.18611,  0.22307,  0.23115,  0.22927,  0.23123,\n",
       "         0.20951,  0.05245,  0.05194,  0.05127,  0.0503 ,  0.05249,\n",
       "         0.01114,  0.     ,  0.01115,  0.01186,  0.01259,  0.09528,\n",
       "         0.09041,  0.09446,  0.09315,  0.09454,  0.09898,  0.05911,\n",
       "         0.04563,  0.0455 ],\n",
       "       [ 0.1483 ,  0.18526,  0.22098,  0.22884,  0.22738,  0.22907,\n",
       "         0.2078 ,  0.05984,  0.06011,  0.05943,  0.05766,  0.05986,\n",
       "         0.01084,  0.01115,  0.     ,  0.00784,  0.00991,  0.08963,\n",
       "         0.08484,  0.089  ,  0.08788,  0.08935,  0.09941,  0.06172,\n",
       "         0.05001,  0.05047],\n",
       "       [ 0.14766,  0.1844 ,  0.21994,  0.22779,  0.22632,  0.22802,\n",
       "         0.20688,  0.06071,  0.06087,  0.06015,  0.05861,  0.06044,\n",
       "         0.01132,  0.01186,  0.00784,  0.     ,  0.00979,  0.08796,\n",
       "         0.08323,  0.08742,  0.08635,  0.08762,  0.09921,  0.06188,\n",
       "         0.05017,  0.05086],\n",
       "       [ 0.14726,  0.18464,  0.22065,  0.22837,  0.22688,  0.22857,\n",
       "         0.20738,  0.06051,  0.06025,  0.05967,  0.05892,  0.05866,\n",
       "         0.01203,  0.01259,  0.00991,  0.00979,  0.     ,  0.07317,\n",
       "         0.06883,  0.07261,  0.07163,  0.07361,  0.09094,  0.05609,\n",
       "         0.04694,  0.0491 ],\n",
       "       [ 0.19904,  0.23474,  0.26652,  0.2734 ,  0.27171,  0.27339,\n",
       "         0.2539 ,  0.14136,  0.14136,  0.14115,  0.14116,  0.13083,\n",
       "         0.09305,  0.09528,  0.08963,  0.08796,  0.07317,  0.     ,\n",
       "         0.00736,  0.01024,  0.01415,  0.0228 ,  0.10354,  0.09205,\n",
       "         0.1028 ,  0.11478],\n",
       "       [ 0.1954 ,  0.23136,  0.26322,  0.27011,  0.26851,  0.27033,\n",
       "         0.25068,  0.13659,  0.13649,  0.1363 ,  0.13633,  0.12629,\n",
       "         0.08839,  0.09041,  0.08484,  0.08323,  0.06883,  0.00736,\n",
       "         0.     ,  0.00845,  0.01153,  0.0196 ,  0.09952,  0.08753,\n",
       "         0.09833,  0.11019],\n",
       "       [ 0.19875,  0.23506,  0.26674,  0.27364,  0.27206,  0.27388,\n",
       "         0.25419,  0.13994,  0.13969,  0.13953,  0.13972,  0.12862,\n",
       "         0.09219,  0.09446,  0.089  ,  0.08742,  0.07261,  0.01024,\n",
       "         0.00845,  0.     ,  0.00601,  0.0138 ,  0.09798,  0.08775,\n",
       "         0.09994,  0.11271],\n",
       "       [ 0.19738,  0.23387,  0.26569,  0.27262,  0.271  ,  0.27293,\n",
       "         0.25314,  0.13761,  0.13725,  0.13708,  0.13739,  0.12612,\n",
       "         0.09077,  0.09315,  0.08788,  0.08635,  0.07163,  0.01415,\n",
       "         0.01153,  0.00601,  0.     ,  0.0118 ,  0.09528,  0.08497,\n",
       "         0.09744,  0.11038],\n",
       "       [ 0.19908,  0.23562,  0.26732,  0.27425,  0.27267,  0.27462,\n",
       "         0.25484,  0.1397 ,  0.13937,  0.13921,  0.13969,  0.1279 ,\n",
       "         0.09233,  0.09454,  0.08935,  0.08762,  0.07361,  0.0228 ,\n",
       "         0.0196 ,  0.0138 ,  0.0118 ,  0.     ,  0.09555,  0.08565,\n",
       "         0.09865,  0.11209],\n",
       "       [ 0.19138,  0.23344,  0.26769,  0.27462,  0.27314,  0.27509,\n",
       "         0.25575,  0.11585,  0.11363,  0.11313,  0.1168 ,  0.10716,\n",
       "         0.09519,  0.09898,  0.09941,  0.09921,  0.09094,  0.10354,\n",
       "         0.09952,  0.09798,  0.09528,  0.09555,  0.     ,  0.02691,\n",
       "         0.05367,  0.0788 ],\n",
       "       [ 0.15127,  0.19367,  0.23032,  0.2382 ,  0.23661,  0.23874,\n",
       "         0.21807,  0.0568 ,  0.05665,  0.05613,  0.05782,  0.05519,\n",
       "         0.05416,  0.05911,  0.06172,  0.06188,  0.05609,  0.09205,\n",
       "         0.08753,  0.08775,  0.08497,  0.08565,  0.02691,  0.     ,\n",
       "         0.02113,  0.03489],\n",
       "       [ 0.12619,  0.1661 ,  0.20348,  0.2116 ,  0.20987,  0.21194,\n",
       "         0.19144,  0.02636,  0.02829,  0.02771,  0.02781,  0.03147,\n",
       "         0.03997,  0.04563,  0.05001,  0.05017,  0.04694,  0.1028 ,\n",
       "         0.09833,  0.09994,  0.09744,  0.09865,  0.05367,  0.02113,\n",
       "         0.     ,  0.01546],\n",
       "       [ 0.10825,  0.14478,  0.18061,  0.18862,  0.18694,  0.18905,\n",
       "         0.16964,  0.01855,  0.02196,  0.02137,  0.01986,  0.02753,\n",
       "         0.03934,  0.0455 ,  0.05047,  0.05086,  0.0491 ,  0.11478,\n",
       "         0.11019,  0.11271,  0.11038,  0.11209,  0.0788 ,  0.03489,\n",
       "         0.01546,  0.     ]])"
      ]
     },
     "execution_count": 26,
     "metadata": {},
     "output_type": "execute_result"
    }
   ],
   "source": [
    "data_matrix"
   ]
  },
  {
   "cell_type": "code",
   "execution_count": null,
   "metadata": {
    "collapsed": true
   },
   "outputs": [],
   "source": []
  }
 ],
 "metadata": {
  "kernelspec": {
   "display_name": "Python 3",
   "language": "python",
   "name": "python3"
  },
  "language_info": {
   "codemirror_mode": {
    "name": "ipython",
    "version": 3
   },
   "file_extension": ".py",
   "mimetype": "text/x-python",
   "name": "python",
   "nbconvert_exporter": "python",
   "pygments_lexer": "ipython3",
   "version": "3.5.2"
  }
 },
 "nbformat": 4,
 "nbformat_minor": 1
}
